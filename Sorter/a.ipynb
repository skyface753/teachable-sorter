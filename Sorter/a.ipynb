{
 "cells": [
  {
   "cell_type": "code",
   "execution_count": 1,
   "metadata": {},
   "outputs": [
    {
     "name": "stdout",
     "output_type": "stream",
     "text": [
      "Requirement already satisfied: ultralytics in /Users/sebastianjorz/.pyenv/versions/3.9.21/envs/venv_myproject/lib/python3.9/site-packages (8.3.95)\n",
      "Requirement already satisfied: matplotlib>=3.3.0 in /Users/sebastianjorz/.pyenv/versions/3.9.21/envs/venv_myproject/lib/python3.9/site-packages (from ultralytics) (3.9.4)\n",
      "Requirement already satisfied: pyyaml>=5.3.1 in /Users/sebastianjorz/.pyenv/versions/3.9.21/envs/venv_myproject/lib/python3.9/site-packages (from ultralytics) (6.0.2)\n",
      "Requirement already satisfied: opencv-python>=4.6.0 in /Users/sebastianjorz/.pyenv/versions/3.9.21/envs/venv_myproject/lib/python3.9/site-packages (from ultralytics) (4.11.0.86)\n",
      "Requirement already satisfied: requests>=2.23.0 in /Users/sebastianjorz/.pyenv/versions/3.9.21/envs/venv_myproject/lib/python3.9/site-packages (from ultralytics) (2.32.3)\n",
      "Requirement already satisfied: numpy<=2.1.1,>=1.23.0 in /Users/sebastianjorz/.pyenv/versions/3.9.21/envs/venv_myproject/lib/python3.9/site-packages (from ultralytics) (1.26.4)\n",
      "Requirement already satisfied: pillow>=7.1.2 in /Users/sebastianjorz/.pyenv/versions/3.9.21/envs/venv_myproject/lib/python3.9/site-packages (from ultralytics) (11.1.0)\n",
      "Requirement already satisfied: pandas>=1.1.4 in /Users/sebastianjorz/.pyenv/versions/3.9.21/envs/venv_myproject/lib/python3.9/site-packages (from ultralytics) (2.2.3)\n",
      "Requirement already satisfied: torch>=1.8.0 in /Users/sebastianjorz/.pyenv/versions/3.9.21/envs/venv_myproject/lib/python3.9/site-packages (from ultralytics) (2.6.0)\n",
      "Requirement already satisfied: tqdm>=4.64.0 in /Users/sebastianjorz/.pyenv/versions/3.9.21/envs/venv_myproject/lib/python3.9/site-packages (from ultralytics) (4.67.1)\n",
      "Requirement already satisfied: seaborn>=0.11.0 in /Users/sebastianjorz/.pyenv/versions/3.9.21/envs/venv_myproject/lib/python3.9/site-packages (from ultralytics) (0.13.2)\n",
      "Requirement already satisfied: psutil in /Users/sebastianjorz/.pyenv/versions/3.9.21/envs/venv_myproject/lib/python3.9/site-packages (from ultralytics) (7.0.0)\n",
      "Requirement already satisfied: ultralytics-thop>=2.0.0 in /Users/sebastianjorz/.pyenv/versions/3.9.21/envs/venv_myproject/lib/python3.9/site-packages (from ultralytics) (2.0.14)\n",
      "Requirement already satisfied: py-cpuinfo in /Users/sebastianjorz/.pyenv/versions/3.9.21/envs/venv_myproject/lib/python3.9/site-packages (from ultralytics) (9.0.0)\n",
      "Requirement already satisfied: scipy>=1.4.1 in /Users/sebastianjorz/.pyenv/versions/3.9.21/envs/venv_myproject/lib/python3.9/site-packages (from ultralytics) (1.13.1)\n",
      "Requirement already satisfied: torchvision>=0.9.0 in /Users/sebastianjorz/.pyenv/versions/3.9.21/envs/venv_myproject/lib/python3.9/site-packages (from ultralytics) (0.21.0)\n",
      "Requirement already satisfied: cycler>=0.10 in /Users/sebastianjorz/.pyenv/versions/3.9.21/envs/venv_myproject/lib/python3.9/site-packages (from matplotlib>=3.3.0->ultralytics) (0.12.1)\n",
      "Requirement already satisfied: kiwisolver>=1.3.1 in /Users/sebastianjorz/.pyenv/versions/3.9.21/envs/venv_myproject/lib/python3.9/site-packages (from matplotlib>=3.3.0->ultralytics) (1.4.7)\n",
      "Requirement already satisfied: packaging>=20.0 in /Users/sebastianjorz/.pyenv/versions/3.9.21/envs/venv_myproject/lib/python3.9/site-packages (from matplotlib>=3.3.0->ultralytics) (24.2)\n",
      "Requirement already satisfied: importlib-resources>=3.2.0 in /Users/sebastianjorz/.pyenv/versions/3.9.21/envs/venv_myproject/lib/python3.9/site-packages (from matplotlib>=3.3.0->ultralytics) (6.5.2)\n",
      "Requirement already satisfied: python-dateutil>=2.7 in /Users/sebastianjorz/.pyenv/versions/3.9.21/envs/venv_myproject/lib/python3.9/site-packages (from matplotlib>=3.3.0->ultralytics) (2.9.0.post0)\n",
      "Requirement already satisfied: contourpy>=1.0.1 in /Users/sebastianjorz/.pyenv/versions/3.9.21/envs/venv_myproject/lib/python3.9/site-packages (from matplotlib>=3.3.0->ultralytics) (1.3.0)\n",
      "Requirement already satisfied: pyparsing>=2.3.1 in /Users/sebastianjorz/.pyenv/versions/3.9.21/envs/venv_myproject/lib/python3.9/site-packages (from matplotlib>=3.3.0->ultralytics) (3.2.2)\n",
      "Requirement already satisfied: fonttools>=4.22.0 in /Users/sebastianjorz/.pyenv/versions/3.9.21/envs/venv_myproject/lib/python3.9/site-packages (from matplotlib>=3.3.0->ultralytics) (4.56.0)\n",
      "Requirement already satisfied: tzdata>=2022.7 in /Users/sebastianjorz/.pyenv/versions/3.9.21/envs/venv_myproject/lib/python3.9/site-packages (from pandas>=1.1.4->ultralytics) (2025.2)\n",
      "Requirement already satisfied: pytz>=2020.1 in /Users/sebastianjorz/.pyenv/versions/3.9.21/envs/venv_myproject/lib/python3.9/site-packages (from pandas>=1.1.4->ultralytics) (2025.1)\n",
      "Requirement already satisfied: certifi>=2017.4.17 in /Users/sebastianjorz/.pyenv/versions/3.9.21/envs/venv_myproject/lib/python3.9/site-packages (from requests>=2.23.0->ultralytics) (2025.1.31)\n",
      "Requirement already satisfied: idna<4,>=2.5 in /Users/sebastianjorz/.pyenv/versions/3.9.21/envs/venv_myproject/lib/python3.9/site-packages (from requests>=2.23.0->ultralytics) (3.10)\n",
      "Requirement already satisfied: charset-normalizer<4,>=2 in /Users/sebastianjorz/.pyenv/versions/3.9.21/envs/venv_myproject/lib/python3.9/site-packages (from requests>=2.23.0->ultralytics) (3.4.1)\n",
      "Requirement already satisfied: urllib3<3,>=1.21.1 in /Users/sebastianjorz/.pyenv/versions/3.9.21/envs/venv_myproject/lib/python3.9/site-packages (from requests>=2.23.0->ultralytics) (2.3.0)\n",
      "Requirement already satisfied: typing-extensions>=4.10.0 in /Users/sebastianjorz/.pyenv/versions/3.9.21/envs/venv_myproject/lib/python3.9/site-packages (from torch>=1.8.0->ultralytics) (4.12.2)\n",
      "Requirement already satisfied: sympy==1.13.1 in /Users/sebastianjorz/.pyenv/versions/3.9.21/envs/venv_myproject/lib/python3.9/site-packages (from torch>=1.8.0->ultralytics) (1.13.1)\n",
      "Requirement already satisfied: fsspec in /Users/sebastianjorz/.pyenv/versions/3.9.21/envs/venv_myproject/lib/python3.9/site-packages (from torch>=1.8.0->ultralytics) (2025.3.0)\n",
      "Requirement already satisfied: filelock in /Users/sebastianjorz/.pyenv/versions/3.9.21/envs/venv_myproject/lib/python3.9/site-packages (from torch>=1.8.0->ultralytics) (3.18.0)\n",
      "Requirement already satisfied: networkx in /Users/sebastianjorz/.pyenv/versions/3.9.21/envs/venv_myproject/lib/python3.9/site-packages (from torch>=1.8.0->ultralytics) (3.2.1)\n",
      "Requirement already satisfied: jinja2 in /Users/sebastianjorz/.pyenv/versions/3.9.21/envs/venv_myproject/lib/python3.9/site-packages (from torch>=1.8.0->ultralytics) (3.1.6)\n",
      "Requirement already satisfied: mpmath<1.4,>=1.1.0 in /Users/sebastianjorz/.pyenv/versions/3.9.21/envs/venv_myproject/lib/python3.9/site-packages (from sympy==1.13.1->torch>=1.8.0->ultralytics) (1.3.0)\n",
      "Requirement already satisfied: zipp>=3.1.0 in /Users/sebastianjorz/.pyenv/versions/3.9.21/envs/venv_myproject/lib/python3.9/site-packages (from importlib-resources>=3.2.0->matplotlib>=3.3.0->ultralytics) (3.21.0)\n",
      "Requirement already satisfied: six>=1.5 in /Users/sebastianjorz/.pyenv/versions/3.9.21/envs/venv_myproject/lib/python3.9/site-packages (from python-dateutil>=2.7->matplotlib>=3.3.0->ultralytics) (1.17.0)\n",
      "Requirement already satisfied: MarkupSafe>=2.0 in /Users/sebastianjorz/.pyenv/versions/3.9.21/envs/venv_myproject/lib/python3.9/site-packages (from jinja2->torch>=1.8.0->ultralytics) (3.0.2)\n",
      "\n",
      "\u001b[1m[\u001b[0m\u001b[34;49mnotice\u001b[0m\u001b[1;39;49m]\u001b[0m\u001b[39;49m A new release of pip is available: \u001b[0m\u001b[31;49m23.0.1\u001b[0m\u001b[39;49m -> \u001b[0m\u001b[32;49m25.0.1\u001b[0m\n",
      "\u001b[1m[\u001b[0m\u001b[34;49mnotice\u001b[0m\u001b[1;39;49m]\u001b[0m\u001b[39;49m To update, run: \u001b[0m\u001b[32;49mpip install --upgrade pip\u001b[0m\n",
      "Note: you may need to restart the kernel to use updated packages.\n",
      "Downloading https://github.com/ultralytics/assets/releases/download/v8.3.0/yolov8n-cls.pt to 'yolov8n-cls.pt'...\n"
     ]
    },
    {
     "name": "stderr",
     "output_type": "stream",
     "text": [
      "100%|██████████| 5.31M/5.31M [00:00<00:00, 6.16MB/s]\n"
     ]
    }
   ],
   "source": [
    "%pip install ultralytics\n",
    "from ultralytics import YOLO\n",
    "model = YOLO(\"yolov8n-cls.pt\")"
   ]
  },
  {
   "cell_type": "code",
   "execution_count": 6,
   "metadata": {},
   "outputs": [
    {
     "name": "stdout",
     "output_type": "stream",
     "text": [
      "New https://pypi.org/project/ultralytics/8.3.96 available 😃 Update with 'pip install -U ultralytics'\n",
      "Ultralytics 8.3.95 🚀 Python-3.9.21 torch-2.6.0 CPU (Apple M1)\n",
      "\u001b[34m\u001b[1mengine/trainer: \u001b[0mtask=classify, mode=train, model=yolov8n-cls.pt, data=/Users/sebastianjorz/Repos/project-teachable-sorter/dataset, epochs=5, time=None, patience=100, batch=16, imgsz=224, save=True, save_period=-1, cache=False, device=None, workers=8, project=None, name=train5, exist_ok=False, pretrained=True, optimizer=auto, verbose=True, seed=0, deterministic=True, single_cls=False, rect=False, cos_lr=False, close_mosaic=10, resume=False, amp=True, fraction=1.0, profile=False, freeze=None, multi_scale=False, overlap_mask=True, mask_ratio=4, dropout=0.0, val=True, split=val, save_json=False, save_hybrid=False, conf=None, iou=0.7, max_det=300, half=False, dnn=False, plots=True, source=None, vid_stride=1, stream_buffer=False, visualize=False, augment=False, agnostic_nms=False, classes=None, retina_masks=False, embed=None, show=False, save_frames=False, save_txt=False, save_conf=False, save_crop=False, show_labels=True, show_conf=True, show_boxes=True, line_width=None, format=torchscript, keras=False, optimize=False, int8=False, dynamic=False, simplify=True, opset=None, workspace=None, nms=False, lr0=0.01, lrf=0.01, momentum=0.937, weight_decay=0.0005, warmup_epochs=3.0, warmup_momentum=0.8, warmup_bias_lr=0.1, box=7.5, cls=0.5, dfl=1.5, pose=12.0, kobj=1.0, nbs=64, hsv_h=0.015, hsv_s=0.7, hsv_v=0.4, degrees=0.0, translate=0.1, scale=0.5, shear=0.0, perspective=0.0, flipud=0.0, fliplr=0.5, bgr=0.0, mosaic=1.0, mixup=0.0, copy_paste=0.0, copy_paste_mode=flip, auto_augment=randaugment, erasing=0.4, crop_fraction=1.0, cfg=None, tracker=botsort.yaml, save_dir=/Users/sebastianjorz/Repos/Bachelor-Project/runs/classify/train5\n",
      "\u001b[34m\u001b[1mtrain:\u001b[0m /Users/sebastianjorz/Repos/project-teachable-sorter/dataset/train... found 1578 images in 2 classes ✅ \n",
      "\u001b[34m\u001b[1mval:\u001b[0m None...\n",
      "\u001b[34m\u001b[1mtest:\u001b[0m /Users/sebastianjorz/Repos/project-teachable-sorter/dataset/test... found 79 images in 2 classes ✅ \n",
      "\n",
      "                   from  n    params  module                                       arguments                     \n",
      "  0                  -1  1       464  ultralytics.nn.modules.conv.Conv             [3, 16, 3, 2]                 \n",
      "  1                  -1  1      4672  ultralytics.nn.modules.conv.Conv             [16, 32, 3, 2]                \n",
      "  2                  -1  1      7360  ultralytics.nn.modules.block.C2f             [32, 32, 1, True]             \n",
      "  3                  -1  1     18560  ultralytics.nn.modules.conv.Conv             [32, 64, 3, 2]                \n",
      "  4                  -1  2     49664  ultralytics.nn.modules.block.C2f             [64, 64, 2, True]             \n",
      "  5                  -1  1     73984  ultralytics.nn.modules.conv.Conv             [64, 128, 3, 2]               \n",
      "  6                  -1  2    197632  ultralytics.nn.modules.block.C2f             [128, 128, 2, True]           \n",
      "  7                  -1  1    295424  ultralytics.nn.modules.conv.Conv             [128, 256, 3, 2]              \n",
      "  8                  -1  1    460288  ultralytics.nn.modules.block.C2f             [256, 256, 1, True]           \n",
      "  9                  -1  1    332802  ultralytics.nn.modules.head.Classify         [256, 2]                      \n",
      "YOLOv8n-cls summary: 56 layers, 1,440,850 parameters, 1,440,850 gradients, 3.4 GFLOPs\n",
      "Transferred 158/158 items from pretrained weights\n",
      "\u001b[34m\u001b[1mTensorBoard: \u001b[0mStart with 'tensorboard --logdir /Users/sebastianjorz/Repos/Bachelor-Project/runs/classify/train5', view at http://localhost:6006/\n"
     ]
    },
    {
     "name": "stderr",
     "output_type": "stream",
     "text": [
      "\u001b[34m\u001b[1mtrain: \u001b[0mScanning /Users/sebastianjorz/Repos/project-teachable-sorter/dataset/train... 1578 images, 0 corrupt: 100%|██████████| 1578/1578 [00:00<?, ?it/s]\n",
      "\u001b[34m\u001b[1mval: \u001b[0mScanning /Users/sebastianjorz/Repos/project-teachable-sorter/dataset/test... 79 images, 0 corrupt: 100%|██████████| 79/79 [00:00<?, ?it/s]"
     ]
    },
    {
     "name": "stdout",
     "output_type": "stream",
     "text": [
      "\u001b[34m\u001b[1moptimizer:\u001b[0m 'optimizer=auto' found, ignoring 'lr0=0.01' and 'momentum=0.937' and determining best 'optimizer', 'lr0' and 'momentum' automatically... \n",
      "\u001b[34m\u001b[1moptimizer:\u001b[0m AdamW(lr=0.001667, momentum=0.9) with parameter groups 26 weight(decay=0.0), 27 weight(decay=0.0005), 27 bias(decay=0.0)\n"
     ]
    },
    {
     "name": "stderr",
     "output_type": "stream",
     "text": [
      "\n"
     ]
    },
    {
     "name": "stdout",
     "output_type": "stream",
     "text": [
      "\u001b[34m\u001b[1mTensorBoard: \u001b[0mmodel graph visualization added ✅\n",
      "Image sizes 224 train, 224 val\n",
      "Using 0 dataloader workers\n",
      "Logging results to \u001b[1m/Users/sebastianjorz/Repos/Bachelor-Project/runs/classify/train5\u001b[0m\n",
      "Starting training for 5 epochs...\n",
      "\n",
      "      Epoch    GPU_mem       loss  Instances       Size\n"
     ]
    },
    {
     "name": "stderr",
     "output_type": "stream",
     "text": [
      "        1/5         0G     0.1449         10        224: 100%|██████████| 99/99 [00:51<00:00,  1.93it/s]\n",
      "               classes   top1_acc   top5_acc: 100%|██████████| 3/3 [00:01<00:00,  2.83it/s]"
     ]
    },
    {
     "name": "stdout",
     "output_type": "stream",
     "text": [
      "                   all          1          1\n"
     ]
    },
    {
     "name": "stderr",
     "output_type": "stream",
     "text": [
      "\n"
     ]
    },
    {
     "name": "stdout",
     "output_type": "stream",
     "text": [
      "\n",
      "      Epoch    GPU_mem       loss  Instances       Size\n"
     ]
    },
    {
     "name": "stderr",
     "output_type": "stream",
     "text": [
      "        2/5         0G    0.03606         10        224: 100%|██████████| 99/99 [00:53<00:00,  1.87it/s]\n",
      "               classes   top1_acc   top5_acc: 100%|██████████| 3/3 [00:01<00:00,  2.88it/s]"
     ]
    },
    {
     "name": "stdout",
     "output_type": "stream",
     "text": [
      "                   all          1          1\n",
      "\n",
      "      Epoch    GPU_mem       loss  Instances       Size\n"
     ]
    },
    {
     "name": "stderr",
     "output_type": "stream",
     "text": [
      "\n",
      "        3/5         0G    0.04164         10        224: 100%|██████████| 99/99 [00:54<00:00,  1.81it/s]\n",
      "               classes   top1_acc   top5_acc: 100%|██████████| 3/3 [00:01<00:00,  2.71it/s]"
     ]
    },
    {
     "name": "stdout",
     "output_type": "stream",
     "text": [
      "                   all          1          1\n"
     ]
    },
    {
     "name": "stderr",
     "output_type": "stream",
     "text": [
      "\n"
     ]
    },
    {
     "name": "stdout",
     "output_type": "stream",
     "text": [
      "\n",
      "      Epoch    GPU_mem       loss  Instances       Size\n"
     ]
    },
    {
     "name": "stderr",
     "output_type": "stream",
     "text": [
      "        4/5         0G    0.01948         10        224: 100%|██████████| 99/99 [00:57<00:00,  1.73it/s]\n",
      "               classes   top1_acc   top5_acc: 100%|██████████| 3/3 [00:01<00:00,  2.42it/s]"
     ]
    },
    {
     "name": "stdout",
     "output_type": "stream",
     "text": [
      "                   all          1          1\n"
     ]
    },
    {
     "name": "stderr",
     "output_type": "stream",
     "text": [
      "\n"
     ]
    },
    {
     "name": "stdout",
     "output_type": "stream",
     "text": [
      "\n",
      "      Epoch    GPU_mem       loss  Instances       Size\n"
     ]
    },
    {
     "name": "stderr",
     "output_type": "stream",
     "text": [
      "        5/5         0G    0.01447         10        224: 100%|██████████| 99/99 [01:03<00:00,  1.56it/s]\n",
      "               classes   top1_acc   top5_acc: 100%|██████████| 3/3 [00:01<00:00,  2.51it/s]"
     ]
    },
    {
     "name": "stdout",
     "output_type": "stream",
     "text": [
      "                   all          1          1\n",
      "\n",
      "5 epochs completed in 0.080 hours.\n"
     ]
    },
    {
     "name": "stderr",
     "output_type": "stream",
     "text": [
      "\n"
     ]
    },
    {
     "name": "stdout",
     "output_type": "stream",
     "text": [
      "Optimizer stripped from /Users/sebastianjorz/Repos/Bachelor-Project/runs/classify/train5/weights/last.pt, 3.0MB\n",
      "Optimizer stripped from /Users/sebastianjorz/Repos/Bachelor-Project/runs/classify/train5/weights/best.pt, 3.0MB\n",
      "\n",
      "Validating /Users/sebastianjorz/Repos/Bachelor-Project/runs/classify/train5/weights/best.pt...\n",
      "Ultralytics 8.3.95 🚀 Python-3.9.21 torch-2.6.0 CPU (Apple M1)\n",
      "YOLOv8n-cls summary (fused): 30 layers, 1,437,442 parameters, 0 gradients, 3.3 GFLOPs\n",
      "WARNING ⚠️ Dataset 'split=val' not found, using 'split=test' instead.\n",
      "\u001b[34m\u001b[1mtrain:\u001b[0m /Users/sebastianjorz/Repos/project-teachable-sorter/dataset/train... found 1578 images in 2 classes ✅ \n",
      "\u001b[34m\u001b[1mval:\u001b[0m /Users/sebastianjorz/Repos/project-teachable-sorter/dataset/test... found 79 images in 2 classes ✅ \n",
      "\u001b[34m\u001b[1mtest:\u001b[0m /Users/sebastianjorz/Repos/project-teachable-sorter/dataset/test... found 79 images in 2 classes ✅ \n"
     ]
    },
    {
     "name": "stderr",
     "output_type": "stream",
     "text": [
      "               classes   top1_acc   top5_acc: 100%|██████████| 3/3 [00:01<00:00,  2.61it/s]\n"
     ]
    },
    {
     "name": "stdout",
     "output_type": "stream",
     "text": [
      "                   all          1          1\n",
      "Speed: 0.0ms preprocess, 12.4ms inference, 0.0ms loss, 0.0ms postprocess per image\n",
      "Results saved to \u001b[1m/Users/sebastianjorz/Repos/Bachelor-Project/runs/classify/train5\u001b[0m\n"
     ]
    }
   ],
   "source": [
    "train_res = model.train(\n",
    "    data='/Users/sebastianjorz/Repos/project-teachable-sorter/dataset', epochs=5)"
   ]
  },
  {
   "cell_type": "code",
   "execution_count": 7,
   "metadata": {},
   "outputs": [
    {
     "name": "stdout",
     "output_type": "stream",
     "text": [
      "Ultralytics 8.3.95 🚀 Python-3.9.21 torch-2.6.0 CPU (Apple M1)\n"
     ]
    },
    {
     "ename": "SystemError",
     "evalue": "Edge TPU export only supported on non-aarch64 Linux. See https://coral.ai/docs/edgetpu/compiler",
     "output_type": "error",
     "traceback": [
      "\u001b[0;31m---------------------------------------------------------------------------\u001b[0m",
      "\u001b[0;31mSystemError\u001b[0m                               Traceback (most recent call last)",
      "Cell \u001b[0;32mIn[7], line 1\u001b[0m\n\u001b[0;32m----> 1\u001b[0m \u001b[43mmodel\u001b[49m\u001b[38;5;241;43m.\u001b[39;49m\u001b[43mexport\u001b[49m\u001b[43m(\u001b[49m\u001b[38;5;28;43mformat\u001b[39;49m\u001b[38;5;241;43m=\u001b[39;49m\u001b[38;5;124;43m'\u001b[39;49m\u001b[38;5;124;43medgetpu\u001b[39;49m\u001b[38;5;124;43m'\u001b[39;49m\u001b[43m)\u001b[49m\n",
      "File \u001b[0;32m~/.pyenv/versions/3.9.21/envs/venv_myproject/lib/python3.9/site-packages/ultralytics/engine/model.py:728\u001b[0m, in \u001b[0;36mModel.export\u001b[0;34m(self, **kwargs)\u001b[0m\n\u001b[1;32m    720\u001b[0m custom \u001b[38;5;241m=\u001b[39m {\n\u001b[1;32m    721\u001b[0m     \u001b[38;5;124m\"\u001b[39m\u001b[38;5;124mimgsz\u001b[39m\u001b[38;5;124m\"\u001b[39m: \u001b[38;5;28mself\u001b[39m\u001b[38;5;241m.\u001b[39mmodel\u001b[38;5;241m.\u001b[39margs[\u001b[38;5;124m\"\u001b[39m\u001b[38;5;124mimgsz\u001b[39m\u001b[38;5;124m\"\u001b[39m],\n\u001b[1;32m    722\u001b[0m     \u001b[38;5;124m\"\u001b[39m\u001b[38;5;124mbatch\u001b[39m\u001b[38;5;124m\"\u001b[39m: \u001b[38;5;241m1\u001b[39m,\n\u001b[0;32m   (...)\u001b[0m\n\u001b[1;32m    725\u001b[0m     \u001b[38;5;124m\"\u001b[39m\u001b[38;5;124mverbose\u001b[39m\u001b[38;5;124m\"\u001b[39m: \u001b[38;5;28;01mFalse\u001b[39;00m,\n\u001b[1;32m    726\u001b[0m }  \u001b[38;5;66;03m# method defaults\u001b[39;00m\n\u001b[1;32m    727\u001b[0m args \u001b[38;5;241m=\u001b[39m {\u001b[38;5;241m*\u001b[39m\u001b[38;5;241m*\u001b[39m\u001b[38;5;28mself\u001b[39m\u001b[38;5;241m.\u001b[39moverrides, \u001b[38;5;241m*\u001b[39m\u001b[38;5;241m*\u001b[39mcustom, \u001b[38;5;241m*\u001b[39m\u001b[38;5;241m*\u001b[39mkwargs, \u001b[38;5;124m\"\u001b[39m\u001b[38;5;124mmode\u001b[39m\u001b[38;5;124m\"\u001b[39m: \u001b[38;5;124m\"\u001b[39m\u001b[38;5;124mexport\u001b[39m\u001b[38;5;124m\"\u001b[39m}  \u001b[38;5;66;03m# highest priority args on the right\u001b[39;00m\n\u001b[0;32m--> 728\u001b[0m \u001b[38;5;28;01mreturn\u001b[39;00m \u001b[43mExporter\u001b[49m\u001b[43m(\u001b[49m\u001b[43moverrides\u001b[49m\u001b[38;5;241;43m=\u001b[39;49m\u001b[43margs\u001b[49m\u001b[43m,\u001b[49m\u001b[43m \u001b[49m\u001b[43m_callbacks\u001b[49m\u001b[38;5;241;43m=\u001b[39;49m\u001b[38;5;28;43mself\u001b[39;49m\u001b[38;5;241;43m.\u001b[39;49m\u001b[43mcallbacks\u001b[49m\u001b[43m)\u001b[49m\u001b[43m(\u001b[49m\u001b[43mmodel\u001b[49m\u001b[38;5;241;43m=\u001b[39;49m\u001b[38;5;28;43mself\u001b[39;49m\u001b[38;5;241;43m.\u001b[39;49m\u001b[43mmodel\u001b[49m\u001b[43m)\u001b[49m\n",
      "File \u001b[0;32m~/.pyenv/versions/3.9.21/envs/venv_myproject/lib/python3.9/site-packages/ultralytics/engine/exporter.py:315\u001b[0m, in \u001b[0;36mExporter.__call__\u001b[0;34m(self, model)\u001b[0m\n\u001b[1;32m    313\u001b[0m \u001b[38;5;28;01mif\u001b[39;00m edgetpu:\n\u001b[1;32m    314\u001b[0m     \u001b[38;5;28;01mif\u001b[39;00m \u001b[38;5;129;01mnot\u001b[39;00m LINUX \u001b[38;5;129;01mor\u001b[39;00m ARM64:\n\u001b[0;32m--> 315\u001b[0m         \u001b[38;5;28;01mraise\u001b[39;00m \u001b[38;5;167;01mSystemError\u001b[39;00m(\n\u001b[1;32m    316\u001b[0m             \u001b[38;5;124m\"\u001b[39m\u001b[38;5;124mEdge TPU export only supported on non-aarch64 Linux. See https://coral.ai/docs/edgetpu/compiler\u001b[39m\u001b[38;5;124m\"\u001b[39m\n\u001b[1;32m    317\u001b[0m         )\n\u001b[1;32m    318\u001b[0m     \u001b[38;5;28;01melif\u001b[39;00m \u001b[38;5;28mself\u001b[39m\u001b[38;5;241m.\u001b[39margs\u001b[38;5;241m.\u001b[39mbatch \u001b[38;5;241m!=\u001b[39m \u001b[38;5;241m1\u001b[39m:  \u001b[38;5;66;03m# see github.com/ultralytics/ultralytics/pull/13420\u001b[39;00m\n\u001b[1;32m    319\u001b[0m         LOGGER\u001b[38;5;241m.\u001b[39mwarning(\u001b[38;5;124m\"\u001b[39m\u001b[38;5;124mWARNING ⚠️ Edge TPU export requires batch size 1, setting batch=1.\u001b[39m\u001b[38;5;124m\"\u001b[39m)\n",
      "\u001b[0;31mSystemError\u001b[0m: Edge TPU export only supported on non-aarch64 Linux. See https://coral.ai/docs/edgetpu/compiler"
     ]
    }
   ],
   "source": [
    "model.export(format='edgetpu')"
   ]
  }
 ],
 "metadata": {
  "kernelspec": {
   "display_name": "venv_myproject",
   "language": "python",
   "name": "python3"
  },
  "language_info": {
   "codemirror_mode": {
    "name": "ipython",
    "version": 3
   },
   "file_extension": ".py",
   "mimetype": "text/x-python",
   "name": "python",
   "nbconvert_exporter": "python",
   "pygments_lexer": "ipython3",
   "version": "3.9.21"
  }
 },
 "nbformat": 4,
 "nbformat_minor": 2
}
